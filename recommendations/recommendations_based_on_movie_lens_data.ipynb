{
 "cells": [
  {
   "cell_type": "markdown",
   "metadata": {
    "_cell_guid": "96528ad5-e00f-4763-b970-c67a416a07ce",
    "_uuid": "dcfd7b7d9bec06aeb55ffca4677be8b6e40a1725"
   },
   "source": [
    "# 1.Item base movie Recommendation System\n",
    "\n",
    "### 1. Import Required Packages\n",
    "\n",
    "### Download Movie lens data set and extract it to the folder recommendations/data/\n",
    "    http://files.grouplens.org/datasets/movielens/ml-100k.zip"
   ]
  },
  {
   "cell_type": "code",
   "execution_count": null,
   "metadata": {
    "_cell_guid": "36a08a86-8c48-4391-97fa-1f3aef910ea9",
    "_uuid": "ab03efbe18e260aff2356aa7c505c5c6498c963a"
   },
   "outputs": [],
   "source": [
    "import numpy as np # linear algebra\n",
    "import pandas as pd \n",
    "import matplotlib.pyplot as plt\n",
    "%matplotlib inline \n",
    "from sklearn.metrics import pairwise_distances\n",
    "from scipy.spatial.distance import cosine,correlation\n",
    "import warnings\n",
    "warnings.filterwarnings('ignore')\n",
    "import os"
   ]
  },
  {
   "cell_type": "code",
   "execution_count": null,
   "metadata": {},
   "outputs": [],
   "source": [
    "print(os.listdir(\"./data/ml-100k\"))"
   ]
  },
  {
   "cell_type": "markdown",
   "metadata": {
    "_cell_guid": "61acff7e-59fc-48a5-86a9-b25998252338",
    "_uuid": "98094d66853fe6168a88d1c486ef3ce0a0e05178"
   },
   "source": [
    "### 2. Read and Merge Dataset"
   ]
  },
  {
   "cell_type": "code",
   "execution_count": null,
   "metadata": {
    "_cell_guid": "2f358e8f-ba7c-4221-abb9-d3ef8e55a836",
    "_uuid": "34b37f060c7ebfedf90b3eb97ff7a06cabac8988"
   },
   "outputs": [],
   "source": [
    "\n",
    "# User's Dataset\n",
    "u_cols = ['user_id', 'age', 'sex', 'occupation', 'zip_code']\n",
    "users = pd.read_csv('./data/ml-100k/u.user', sep='|', names=u_cols,\n",
    "                    encoding='latin-1', parse_dates=True) \n",
    "# Rating dataset\n",
    "r_cols = ['user_id', 'movie_id', 'rating', 'unix_timestamp']\n",
    "ratings = pd.read_csv('./data/ml-100k/u.data', sep='\\t', names=r_cols,\n",
    "                      encoding='latin-1')\n",
    "\n",
    "# Movies Dataset\n",
    "m_cols = ['movie_id', 'title', 'release_date', 'video_release_date', 'imdb_url']\n",
    "movies = pd.read_csv('./data/ml-100k/u.item', sep='|', names=m_cols, usecols=range(5),\n",
    "                     encoding='latin-1')"
   ]
  },
  {
   "cell_type": "code",
   "execution_count": null,
   "metadata": {},
   "outputs": [],
   "source": [
    "ratings.head(3)"
   ]
  },
  {
   "cell_type": "code",
   "execution_count": null,
   "metadata": {},
   "outputs": [],
   "source": [
    "movies.head(3)"
   ]
  },
  {
   "cell_type": "code",
   "execution_count": null,
   "metadata": {},
   "outputs": [],
   "source": [
    "users.head(3)"
   ]
  },
  {
   "cell_type": "code",
   "execution_count": null,
   "metadata": {
    "_cell_guid": "de728263-1678-4131-86c6-c37a98e70b03",
    "_uuid": "841d75b4807a56f01cc2e829e06852f9752f9e87"
   },
   "outputs": [],
   "source": [
    "#Merge all dataset\n",
    "movie_ratings = pd.merge(movies, ratings)\n",
    "df = pd.merge(movie_ratings,users)\n",
    "df.head(5)"
   ]
  },
  {
   "cell_type": "markdown",
   "metadata": {
    "_cell_guid": "c0eb45d1-5b93-49d2-a1b8-83e4b17968f1",
    "_uuid": "93ec58ecaca76d5b178009898e954a6280ce40df"
   },
   "source": [
    "### 3. Data Preprocessing"
   ]
  },
  {
   "cell_type": "code",
   "execution_count": null,
   "metadata": {
    "_cell_guid": "1667c784-a3f0-47d9-acb4-92ed11f0b8df",
    "_uuid": "2b534af32a00e785a24c5e98051bb99f11fde256"
   },
   "outputs": [],
   "source": [
    "#  Drop unused column from comman and individual dataset\n",
    "#'user_id', 'rating', 'occupation'\n",
    "df.drop(df.columns[[3,4,7]], axis=1, inplace=True)\n",
    "ratings.drop( \"unix_timestamp\", inplace = True, axis = 1 ) \n",
    "movies.drop(movies.columns[[3,4]], inplace = True, axis = 1 )\n",
    "#Dropping all the columns that are not really needed\n",
    "df.info()"
   ]
  },
  {
   "cell_type": "markdown",
   "metadata": {
    "_cell_guid": "8041182d-0660-4e29-8c44-47f0af4e5283",
    "_uuid": "3745b81e9248d4cad49a3d1ae019e7b40703f3cc"
   },
   "source": [
    "### 4. Movie Rating  "
   ]
  },
  {
   "cell_type": "code",
   "execution_count": null,
   "metadata": {
    "_cell_guid": "40e09674-5aba-46f2-aa92-708eff069e0a",
    "_uuid": "111fa1761bc58e3144b9b9d0c7d1ead19fd3b4e7"
   },
   "outputs": [],
   "source": [
    "#  Movie rating aggregate based on title so we get rating by movie title\n",
    "movie_stats = df.groupby('title').agg({'rating' : [np.size, np.mean]})\n",
    "movie_stats.head(10)"
   ]
  },
  {
   "cell_type": "code",
   "execution_count": null,
   "metadata": {
    "_cell_guid": "ce071cdb-8c6e-4caf-9a78-f53625bb19a9",
    "_uuid": "f4838dc926e76947834714c1285dd744a9846932"
   },
   "outputs": [],
   "source": [
    "# Setting a threshold of atleast 50 ratings for better analysis.\n",
    "min_50 = movie_stats['rating']['size'] >= 50\n",
    "#min_50 will contain true or false for each movie\n",
    "movie_stats[min_50].sort_values([('rating', 'mean')], ascending=False).head()"
   ]
  },
  {
   "cell_type": "markdown",
   "metadata": {
    "_cell_guid": "5f7970b0-9235-4e81-810d-c78dd62cbab8",
    "_uuid": "63e976c27deb2dd3e0f6c44b737919be01482d63"
   },
   "source": [
    "### 4.1 Movie's Rating Individual Count"
   ]
  },
  {
   "cell_type": "code",
   "execution_count": null,
   "metadata": {
    "_cell_guid": "3c97b514-23e2-42cc-a838-4752b452d56b",
    "_uuid": "5fc0a699015f92e550d5ca6ecdca69269347cd2b"
   },
   "outputs": [],
   "source": [
    "# Rating Count and Graph\n",
    "plt.figure(figsize=(20,8))\n",
    "ratings.rating.plot.hist(bins=10, )\n",
    "plt.title(\"Distribution of Users' Ratings\")\n",
    "plt.ylabel('Number of Ratings')\n",
    "plt.xlabel('Rating (Out of 5)')\n",
    "\n",
    "rating_count = pd.DataFrame(ratings.rating.value_counts()).T.rename({'rating':'Ratings'})\n",
    "rating_count"
   ]
  },
  {
   "cell_type": "markdown",
   "metadata": {
    "_cell_guid": "c5c41dda-7379-42e8-b2af-897267c6d78a",
    "_uuid": "3077cfd18eac45f9c37239069dddb96a07aa5680"
   },
   "source": [
    "### 4.2 Movie Rating Count By user age"
   ]
  },
  {
   "cell_type": "code",
   "execution_count": null,
   "metadata": {
    "_cell_guid": "7c8795e0-c2a8-4a62-9a34-78eaa727321e",
    "_uuid": "29abb8460728b739c4625ca44af1f81751a90e94"
   },
   "outputs": [],
   "source": [
    "# Rating count by age(How many user's by age)\n",
    "plt.figure(figsize=(20,8))\n",
    "users.age.plot.hist(bins = 300)\n",
    "plt.title(\"User Ratings By age\")\n",
    "plt.ylabel('Number of Users')\n",
    "plt.xlabel('Age')\n",
    "\n",
    "user_age_count = pd.DataFrame(users.age.value_counts()).T.rename({'age':'Total Users by Age'})\n",
    "user_age_count"
   ]
  },
  {
   "cell_type": "markdown",
   "metadata": {
    "_cell_guid": "51f69811-d570-4e1a-a657-1b3ee106e122",
    "_uuid": "7c12f0b577efcf8a77f052b8f7658376b2373de2"
   },
   "source": [
    "### 5. Rating Pivot table"
   ]
  },
  {
   "cell_type": "code",
   "execution_count": null,
   "metadata": {
    "_cell_guid": "ad69641d-dbfb-4c5b-b6fa-dbd5bc794136",
    "_uuid": "6d461ea7644eff0c70ada6aaa5e508a92142b566"
   },
   "outputs": [],
   "source": [
    "#Convert Rating to matrix format\n",
    "ratings_matrix = ratings.pivot_table(index=['movie_id'],columns=['user_id'],values='rating').reset_index(drop=True)\n",
    "ratings_matrix.fillna(0, inplace=True)\n",
    "ratings_matrix.head()"
   ]
  },
  {
   "cell_type": "code",
   "execution_count": null,
   "metadata": {
    "_cell_guid": "f2f25cf8-58bf-497c-9c21-e8921538e4ca",
    "_uuid": "f93c0bb1bccb9dbc48d9e55463aa3e3990b526bc"
   },
   "outputs": [],
   "source": [
    "# Calculate Cosine Similarity for rating and movie\n",
    "# ‘cosine’, ‘euclidean’, ‘l1’, ‘l2’, ‘manhattan’\n",
    "movie_similarity = 1 - pairwise_distances(ratings_matrix.as_matrix(), metric=\"cosine\")\n",
    "np.fill_diagonal(movie_similarity, 0)\n",
    "ratings_matrix = pd.DataFrame(movie_similarity)\n",
    "ratings_matrix.head()"
   ]
  },
  {
   "cell_type": "markdown",
   "metadata": {
    "_cell_guid": "8689c7d4-6b2b-4143-979a-62a8e25981ef",
    "_uuid": "45996b31af683139f64b0ecb48f7f314e4c0ff97"
   },
   "source": [
    " ### 7. Recommendation Engine"
   ]
  },
  {
   "cell_type": "code",
   "execution_count": null,
   "metadata": {
    "_cell_guid": "63af86d9-e291-4a5c-9046-ac509a5b1fb9",
    "_uuid": "e6ad03228b434f849e5e4703a4242ac3659a2db2"
   },
   "outputs": [],
   "source": [
    "# Recommendation System of movies\n",
    "try:\n",
    "    user_inp = \"Speed (1994)\"\n",
    "    inp = movies[movies['title']==user_inp].index.tolist()\n",
    "    inp = inp[0]\n",
    "    movies['similarity'] = ratings_matrix.iloc[inp]\n",
    "    movies.columns = ['movie_id', 'title', 'release_date','similarity']\n",
    "    movies.head(10)\n",
    "    movies['similarity'].plot(kind = \"hist\")\n",
    "except: \n",
    "    print(\"Sorry, the movie is not in the database!\")"
   ]
  },
  {
   "cell_type": "code",
   "execution_count": null,
   "metadata": {
    "_cell_guid": "c45f7535-979f-4ab4-8777-44a35c5b6a3d",
    "_uuid": "71691f8b06d53301b8ab211346b3e8493a1dfbda"
   },
   "outputs": [],
   "source": [
    "print(\"Recommended movies based on your choice of \",user_inp ,\": \\n\", movies.sort_values( [\"similarity\"], ascending = False )[1:10])"
   ]
  },
  {
   "cell_type": "code",
   "execution_count": null,
   "metadata": {},
   "outputs": [],
   "source": [
    "# We looked at just the user ratings to calculate the similarity between movies. It can be expanded to use other information \n",
    "# about the movie or information about user. Converity categorically variable like movie genere into one hot enconding"
   ]
  }
 ],
 "metadata": {
  "kernelspec": {
   "display_name": "Python 3",
   "language": "python",
   "name": "python3"
  },
  "language_info": {
   "codemirror_mode": {
    "name": "ipython",
    "version": 3
   },
   "file_extension": ".py",
   "mimetype": "text/x-python",
   "name": "python",
   "nbconvert_exporter": "python",
   "pygments_lexer": "ipython3",
   "version": "3.7.3"
  }
 },
 "nbformat": 4,
 "nbformat_minor": 1
}
